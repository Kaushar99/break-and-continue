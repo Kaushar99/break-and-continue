{
  "nbformat": 4,
  "nbformat_minor": 0,
  "metadata": {
    "colab": {
      "provenance": [],
      "authorship_tag": "ABX9TyP00t7fQPzaPmDeWpYClpRm",
      "include_colab_link": true
    },
    "kernelspec": {
      "name": "python3",
      "display_name": "Python 3"
    },
    "language_info": {
      "name": "python"
    }
  },
  "cells": [
    {
      "cell_type": "markdown",
      "metadata": {
        "id": "view-in-github",
        "colab_type": "text"
      },
      "source": [
        "<a href=\"https://colab.research.google.com/github/Kaushar99/break-and-continue/blob/main/datastructure.ipynb\" target=\"_parent\"><img src=\"https://colab.research.google.com/assets/colab-badge.svg\" alt=\"Open In Colab\"/></a>"
      ]
    },
    {
      "cell_type": "markdown",
      "source": [
        "1. Why might you choose a deque from the collections module to implement a queue instead of using a regular Python list?\n",
        "\n",
        "Ans. Using a deque from the collections module to implement a queue in Python offers many advantages over using a regular Python list.\n",
        "Deques provide efficient insertion and deletion operations from both ends of the queue, making them well-suited for queue implementations where elements are frequently added or removed from either end.\n",
        "Deques have a constant time complexity for accessing elements at either end, whereas accessing elements at beginning of a list has a linear time complexity. this makes deques a better choice for implementing queues that require fast insertion and deletion operations.\n"
      ],
      "metadata": {
        "id": "64n7BSYvCOK9"
      }
    },
    {
      "cell_type": "code",
      "source": [
        "from collections import deque\n",
        "checkout = deque()\n",
        "checkout.append(\"customer1\")\n",
        "checkout.append(\"customer2\")\n",
        "checkout.append(\"customer3\")\n",
        "checkout.append(\"customer4\")\n",
        "checkout"
      ],
      "metadata": {
        "colab": {
          "base_uri": "https://localhost:8080/"
        },
        "id": "ypqopJZ4JZ2z",
        "outputId": "93dce1da-458a-4245-f57b-9eb345bc448c"
      },
      "execution_count": null,
      "outputs": [
        {
          "output_type": "execute_result",
          "data": {
            "text/plain": [
              "deque(['customer1', 'customer2', 'customer3', 'customer4'])"
            ]
          },
          "metadata": {},
          "execution_count": 1
        }
      ]
    },
    {
      "cell_type": "code",
      "source": [
        "while checkout:\n",
        "    customer = checkout.popleft()\n",
        "    print(\"serving\", customer)"
      ],
      "metadata": {
        "colab": {
          "base_uri": "https://localhost:8080/"
        },
        "id": "NW1pQqgPK2YL",
        "outputId": "d0148dd8-fe2c-47cb-ac63-df97c22be5f4"
      },
      "execution_count": null,
      "outputs": [
        {
          "output_type": "stream",
          "name": "stdout",
          "text": [
            "serving customer1\n",
            "serving customer2\n",
            "serving customer3\n",
            "serving customer4\n"
          ]
        }
      ]
    },
    {
      "cell_type": "markdown",
      "source": [
        "2.  Can you explain a real-world scenario where using a stack would be a more practical choice than a list for data storage and retrieval?\n",
        "\n",
        "Ans. considering a real-world scenerio in web browsing where using a stack would be more practical than a list for a data storage and retrieval.\n",
        "when a user navigates through different web pages in a browser, the browser maintains  a history of visited pages. this enables to go back to previously visited pages by clicking the BACK button. A stack data structure is well-suited for managing this browsing history because it follows the LAST IN, FIRST OUT (LIFO) principle.\n",
        "It ensures that the user can navigate back to previously visited pages in the reverse order in which they were visited.  It provides a simple and efficient way to manage navigation operations as items are added and removed from top of the stack.\n",
        "overall, using a stack data structure is a practical choice for managing browsing history in web browsers, where visited pages need to be stored and retrieved in a last in, first out manner.\n",
        "\n"
      ],
      "metadata": {
        "id": "_TuP0_AwLMSG"
      }
    },
    {
      "cell_type": "code",
      "source": [
        "stack = []\n",
        "stack.append(1)\n",
        "stack.append(2)\n",
        "stack.append(3)\n",
        "stack"
      ],
      "metadata": {
        "colab": {
          "base_uri": "https://localhost:8080/"
        },
        "id": "QT_vvsoBTttf",
        "outputId": "5e0c8a68-6a52-4f7a-dc25-97612c17bb62"
      },
      "execution_count": null,
      "outputs": [
        {
          "output_type": "execute_result",
          "data": {
            "text/plain": [
              "[1, 2, 3]"
            ]
          },
          "metadata": {},
          "execution_count": 10
        }
      ]
    },
    {
      "cell_type": "code",
      "source": [
        "stack.pop()"
      ],
      "metadata": {
        "colab": {
          "base_uri": "https://localhost:8080/"
        },
        "id": "kqIbPCy_TvPc",
        "outputId": "a3740912-8159-4ff2-a8dd-32f3e81e93a8"
      },
      "execution_count": null,
      "outputs": [
        {
          "output_type": "execute_result",
          "data": {
            "text/plain": [
              "3"
            ]
          },
          "metadata": {},
          "execution_count": 11
        }
      ]
    },
    {
      "cell_type": "code",
      "source": [
        "stack"
      ],
      "metadata": {
        "colab": {
          "base_uri": "https://localhost:8080/"
        },
        "id": "ane7YrumTxfr",
        "outputId": "c9c85009-b5ad-4fe6-a4ec-59267c281ae6"
      },
      "execution_count": null,
      "outputs": [
        {
          "output_type": "execute_result",
          "data": {
            "text/plain": [
              "[1, 2]"
            ]
          },
          "metadata": {},
          "execution_count": 12
        }
      ]
    },
    {
      "cell_type": "code",
      "source": [
        "stack.append(4)\n",
        "stack"
      ],
      "metadata": {
        "colab": {
          "base_uri": "https://localhost:8080/"
        },
        "id": "V9DPxKD7T0Qi",
        "outputId": "55f3d892-5b90-4156-dcf6-5ae9ab88a3e9"
      },
      "execution_count": null,
      "outputs": [
        {
          "output_type": "execute_result",
          "data": {
            "text/plain": [
              "[1, 2, 4]"
            ]
          },
          "metadata": {},
          "execution_count": 13
        }
      ]
    },
    {
      "cell_type": "markdown",
      "source": [
        "3. What is the primary advantage of using sets in Python, and in what type of problem-solving scenarios are they most useful?\n",
        "\n",
        "Ans. The primary advantage of using sets in python is their ability to efficiently perform set operations such as  interesection, union, difference and symmetric difference. Sets ensure that the elements are unique and allows operations for adding, removing, checking for membership of elements. sets are most useful in problem-solving scenarios where we need to remove duplicates, perform set operations, check membership efficiently, filtering unique elements.In problem solving scenarios such as finding common elements between multiple lists, identifying unique elements in a collection, or removing duplicates from the data, sets offers a concise and efficient solution due to their unique properties and built-in set operations."
      ],
      "metadata": {
        "id": "BALiGmhDUl5U"
      }
    },
    {
      "cell_type": "code",
      "source": [
        "s = {2, 3, 4,2, 4,3 , 4,2, 2, 4, 3, 'kaushar', 'Ajay', 'kaushar'}\n",
        "s"
      ],
      "metadata": {
        "colab": {
          "base_uri": "https://localhost:8080/"
        },
        "id": "aXyerzwLYj-P",
        "outputId": "abbf830c-2c0e-4d24-f8a4-76d9207dcd08"
      },
      "execution_count": null,
      "outputs": [
        {
          "output_type": "execute_result",
          "data": {
            "text/plain": [
              "{2, 3, 4, 'Ajay', 'kaushar'}"
            ]
          },
          "metadata": {},
          "execution_count": 16
        }
      ]
    },
    {
      "cell_type": "code",
      "source": [
        "s = {1,2,3,3,2,4, (9,7,8,6)}\n",
        "s"
      ],
      "metadata": {
        "colab": {
          "base_uri": "https://localhost:8080/"
        },
        "id": "aLdfxZjkYrLA",
        "outputId": "f0a3118c-c8bc-4d06-e91b-c1ef61532a3a"
      },
      "execution_count": null,
      "outputs": [
        {
          "output_type": "execute_result",
          "data": {
            "text/plain": [
              "{(9, 7, 8, 6), 1, 2, 3, 4}"
            ]
          },
          "metadata": {},
          "execution_count": 17
        }
      ]
    },
    {
      "cell_type": "code",
      "source": [
        "s.add(80)"
      ],
      "metadata": {
        "id": "fVCyViBZY_2S"
      },
      "execution_count": null,
      "outputs": []
    },
    {
      "cell_type": "code",
      "source": [
        "s"
      ],
      "metadata": {
        "colab": {
          "base_uri": "https://localhost:8080/"
        },
        "id": "DY2suXyFZIcr",
        "outputId": "dbd22aa4-5046-4a88-fce8-c27b893376cd"
      },
      "execution_count": null,
      "outputs": [
        {
          "output_type": "execute_result",
          "data": {
            "text/plain": [
              "{(9, 7, 8, 6), 1, 2, 3, 4, 80}"
            ]
          },
          "metadata": {},
          "execution_count": 19
        }
      ]
    },
    {
      "cell_type": "code",
      "source": [
        "s1 = {\"tea\", \"coffee\", \"shakes\", \"lemonade\"}\n",
        "s2 = {\"coffee\", \"softdrink\", \"thandai\", \"tea\"}\n",
        "s1 & s2          # &>> intersection."
      ],
      "metadata": {
        "colab": {
          "base_uri": "https://localhost:8080/"
        },
        "id": "ihWSZ54sZKoV",
        "outputId": "bffd63cd-7d19-4e94-d62a-4b73e87f1a5a"
      },
      "execution_count": null,
      "outputs": [
        {
          "output_type": "execute_result",
          "data": {
            "text/plain": [
              "{'coffee', 'tea'}"
            ]
          },
          "metadata": {},
          "execution_count": 20
        }
      ]
    },
    {
      "cell_type": "code",
      "source": [
        "s1 | s2      # | >> union"
      ],
      "metadata": {
        "colab": {
          "base_uri": "https://localhost:8080/"
        },
        "id": "apqUZVUQZaLi",
        "outputId": "ff451312-2341-478d-d465-d77b39f1de4c"
      },
      "execution_count": null,
      "outputs": [
        {
          "output_type": "execute_result",
          "data": {
            "text/plain": [
              "{'coffee', 'lemonade', 'shakes', 'softdrink', 'tea', 'thandai'}"
            ]
          },
          "metadata": {},
          "execution_count": 21
        }
      ]
    },
    {
      "cell_type": "code",
      "source": [
        "s1 - s2   # - >> difference"
      ],
      "metadata": {
        "colab": {
          "base_uri": "https://localhost:8080/"
        },
        "id": "YIgYFHPJZtgD",
        "outputId": "bdd39f8f-86cf-4f65-c705-658561e81623"
      },
      "execution_count": null,
      "outputs": [
        {
          "output_type": "execute_result",
          "data": {
            "text/plain": [
              "{'lemonade', 'shakes'}"
            ]
          },
          "metadata": {},
          "execution_count": 22
        }
      ]
    },
    {
      "cell_type": "code",
      "source": [
        "s1 ^ s2    # ^ symmetric difference"
      ],
      "metadata": {
        "colab": {
          "base_uri": "https://localhost:8080/"
        },
        "id": "bBIgzhjKZ2HX",
        "outputId": "406d47be-7579-4eba-ac23-aff36cf8f8b1"
      },
      "execution_count": null,
      "outputs": [
        {
          "output_type": "execute_result",
          "data": {
            "text/plain": [
              "{'lemonade', 'shakes', 'softdrink', 'thandai'}"
            ]
          },
          "metadata": {},
          "execution_count": 23
        }
      ]
    },
    {
      "cell_type": "markdown",
      "source": [
        "4. When might you choose to use an array instead of a list for storing numerical data in Python? What benefits do arrays offer in this context?\n",
        "\n",
        "Ans. In Python, arrays are typically used over lists for storing numerical data when performance is a critical consideration. Arrays offer several benefits:\n",
        "1. Memory Efficiency: Arrays in Python are more memory-efficient compared to lists, especially when dealing with large amounts of numerical data. Arrays store data in a contiguous block of memory, whereas lists stores references to objects scattered throughout memory.\n",
        "2. Faster Access: since arrays store data in a contiguous block of memory, accessing elements by index is faster compared to lists. This is especially beneficial for numerical computations where quick access to data is crucial.\n",
        "3. Improved performance: Numerical operations on arrays are often faster than on  lists due to optimized implementations of array operations. Arrays allow for vectorized operations, which can significantly improve performance for mathematical operations.\n",
        "4. Typed data: Arrays in Python can be created with a specific data type, such as integers or floating point number. This allows for efficient storage and manipulation of numerical data without the overhead of storing Python objects as in lists.\n",
        "\n",
        "Overall, arrays offer memory efficiency, faster access, improved performance and interoperability with low-level code, making them a prefered choice for storing numerical data in python, particularly un scenarios where performance optimization is essential, such as scientific computing, data analysis, and machine learning."
      ],
      "metadata": {
        "id": "6GLMu4uQaNu5"
      }
    },
    {
      "cell_type": "markdown",
      "source": [
        "5. In Python, what's the primary difference between dictionaries and lists, and how does this difference impact their use cases in programming?\n",
        "\n",
        "Ans. The primary difference between dictionaries and lists in Python lies in their underlying data structure and how they store and retrieve data.\n",
        "\n",
        "Lists in Python are ordered collections of elements, where each element is indexed by its position in the list. Lists maintain the order in which elements are inserted.\n",
        "while Dictionaries are unordered collections of key-value pairs. Each element in a dictionary is accessed by its associated key, rather than by its position. Dictionaries do not maintain the order of key-value pairs.\n",
        "\n",
        "Elements in a list are accessed by their index, which is an integer representing their position in the list. Lists are typically used when the order of elements matters, and when accessing elements by their position is important.\n",
        "while Elements in a dictionary are accessed by their keys, which can be of any immutable data type (e.g., strings, integers, tuples). Dictionaries are used when you need to associate values with specific keys and when quick lookup by key is necessary.\n",
        "\n",
        "Use Cases: Lists are commonly used when we have a collection of elements that need to be ordered and accessed by their positions. They are suitable for scenarios such as maintaining a sequence of items, storing data where the order matters, and performing operations like iteration and slicing.\n",
        "Dictionaries are used when we need to store data in key-value pairs and when efficient lookup by key is essential. They are ideal for scenarios such as mapping relationships between items, storing configurations or settings, and performing fast lookups based on keys.\n",
        "\n",
        "The difference in data structures between dictionaries and lists impacts their use cases in programming. Lists are preferred for ordered collections of elements where access by position is important, while dictionaries are used for unordered collections of key-value pairs where access by key is crucial. Choosing the appropriate data structure depends on the specific requirements and characteristics of the data being manipulated in a program."
      ],
      "metadata": {
        "id": "c6DRRkYEFY03"
      }
    },
    {
      "cell_type": "markdown",
      "source": [],
      "metadata": {
        "id": "KzyH91-gJ8CY"
      }
    },
    {
      "cell_type": "markdown",
      "source": [
        "# New Section"
      ],
      "metadata": {
        "id": "BknaFEiMKDrp"
      }
    }
  ]
}